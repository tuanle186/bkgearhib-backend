{
 "cells": [
  {
   "cell_type": "code",
   "execution_count": 1,
   "id": "71768c5d-65f4-4ea0-a29d-6e651b8aceeb",
   "metadata": {},
   "outputs": [],
   "source": [
    "import requests\n",
    "from bs4 import BeautifulSoup\n",
    "import pandas as pd"
   ]
  },
  {
   "cell_type": "code",
   "execution_count": 5,
   "id": "b2e49de2-f0bd-4e7d-9372-61658d2d6ec8",
   "metadata": {},
   "outputs": [],
   "source": [
    "url = \"https://cellphones.com.vn/laptop.html\"\n",
    "\n",
    "# Fetch the page content\n",
    "response = requests.get(url)\n",
    "html_content = response.content\n",
    "\n",
    "# Parse the HTML content with BeautifulSoup\n",
    "soup = BeautifulSoup(html_content, 'html.parser')"
   ]
  },
  {
   "cell_type": "code",
   "execution_count": 25,
   "id": "c88b92ac-21a5-4ca5-83ac-ce17adff73f9",
   "metadata": {},
   "outputs": [
    {
     "name": "stdout",
     "output_type": "stream",
     "text": [
      "['Laptop Dell Inspiron 15 3520']\n",
      "['Laptop Dell Inspiron 15 3520', 'Laptop MSI Gaming Thin 15 B13UC-2081VN']\n",
      "['Laptop Dell Inspiron 15 3520', 'Laptop MSI Gaming Thin 15 B13UC-2081VN', 'Laptop ASUS Gaming VivoBook K3605ZC-RP564W']\n",
      "['Laptop Dell Inspiron 15 3520', 'Laptop MSI Gaming Thin 15 B13UC-2081VN', 'Laptop ASUS Gaming VivoBook K3605ZC-RP564W', 'Laptop Acer Aspire 3 Spin A3SP14-31PT-387Z']\n",
      "['Laptop Dell Inspiron 15 3520', 'Laptop MSI Gaming Thin 15 B13UC-2081VN', 'Laptop ASUS Gaming VivoBook K3605ZC-RP564W', 'Laptop Acer Aspire 3 Spin A3SP14-31PT-387Z', 'Laptop Lenovo Ideapad Slim 5 14IAH8 83BF002NVN']\n",
      "['Laptop Dell Inspiron 15 3520', 'Laptop MSI Gaming Thin 15 B13UC-2081VN', 'Laptop ASUS Gaming VivoBook K3605ZC-RP564W', 'Laptop Acer Aspire 3 Spin A3SP14-31PT-387Z', 'Laptop Lenovo Ideapad Slim 5 14IAH8 83BF002NVN', 'Laptop MSI Modern 15 B12MO-487VN']\n",
      "['Laptop Dell Inspiron 15 3520', 'Laptop MSI Gaming Thin 15 B13UC-2081VN', 'Laptop ASUS Gaming VivoBook K3605ZC-RP564W', 'Laptop Acer Aspire 3 Spin A3SP14-31PT-387Z', 'Laptop Lenovo Ideapad Slim 5 14IAH8 83BF002NVN', 'Laptop MSI Modern 15 B12MO-487VN', 'Laptop Lenovo LOQ 15ARP9 83JC007HVN']\n",
      "['Laptop Dell Inspiron 15 3520', 'Laptop MSI Gaming Thin 15 B13UC-2081VN', 'Laptop ASUS Gaming VivoBook K3605ZC-RP564W', 'Laptop Acer Aspire 3 Spin A3SP14-31PT-387Z', 'Laptop Lenovo Ideapad Slim 5 14IAH8 83BF002NVN', 'Laptop MSI Modern 15 B12MO-487VN', 'Laptop Lenovo LOQ 15ARP9 83JC007HVN', 'Laptop ASUS Vivobook 14 OLED A1405ZA-KM264W']\n",
      "['Laptop Dell Inspiron 15 3520', 'Laptop MSI Gaming Thin 15 B13UC-2081VN', 'Laptop ASUS Gaming VivoBook K3605ZC-RP564W', 'Laptop Acer Aspire 3 Spin A3SP14-31PT-387Z', 'Laptop Lenovo Ideapad Slim 5 14IAH8 83BF002NVN', 'Laptop MSI Modern 15 B12MO-487VN', 'Laptop Lenovo LOQ 15ARP9 83JC007HVN', 'Laptop ASUS Vivobook 14 OLED A1405ZA-KM264W', 'Laptop Acer Gaming Aspire 5 A515-58GM-53PZ']\n",
      "['Laptop Dell Inspiron 15 3520', 'Laptop MSI Gaming Thin 15 B13UC-2081VN', 'Laptop ASUS Gaming VivoBook K3605ZC-RP564W', 'Laptop Acer Aspire 3 Spin A3SP14-31PT-387Z', 'Laptop Lenovo Ideapad Slim 5 14IAH8 83BF002NVN', 'Laptop MSI Modern 15 B12MO-487VN', 'Laptop Lenovo LOQ 15ARP9 83JC007HVN', 'Laptop ASUS Vivobook 14 OLED A1405ZA-KM264W', 'Laptop Acer Gaming Aspire 5 A515-58GM-53PZ', 'Laptop ASUS TUF Gaming F15 FX507ZC4-HN095W']\n",
      "['Laptop Dell Inspiron 15 3520', 'Laptop MSI Gaming Thin 15 B13UC-2081VN', 'Laptop ASUS Gaming VivoBook K3605ZC-RP564W', 'Laptop Acer Aspire 3 Spin A3SP14-31PT-387Z', 'Laptop Lenovo Ideapad Slim 5 14IAH8 83BF002NVN', 'Laptop MSI Modern 15 B12MO-487VN', 'Laptop Lenovo LOQ 15ARP9 83JC007HVN', 'Laptop ASUS Vivobook 14 OLED A1405ZA-KM264W', 'Laptop Acer Gaming Aspire 5 A515-58GM-53PZ', 'Laptop ASUS TUF Gaming F15 FX507ZC4-HN095W', 'Laptop Acer Aspire 3 A314-42P-R3B3 NX.KSFSV.001']\n",
      "['Laptop Dell Inspiron 15 3520', 'Laptop MSI Gaming Thin 15 B13UC-2081VN', 'Laptop ASUS Gaming VivoBook K3605ZC-RP564W', 'Laptop Acer Aspire 3 Spin A3SP14-31PT-387Z', 'Laptop Lenovo Ideapad Slim 5 14IAH8 83BF002NVN', 'Laptop MSI Modern 15 B12MO-487VN', 'Laptop Lenovo LOQ 15ARP9 83JC007HVN', 'Laptop ASUS Vivobook 14 OLED A1405ZA-KM264W', 'Laptop Acer Gaming Aspire 5 A515-58GM-53PZ', 'Laptop ASUS TUF Gaming F15 FX507ZC4-HN095W', 'Laptop Acer Aspire 3 A314-42P-R3B3 NX.KSFSV.001', 'Apple MacBook Air M1 256GB 2020 I Chính hãng Apple Việt Nam']\n",
      "['Laptop Dell Inspiron 15 3520', 'Laptop MSI Gaming Thin 15 B13UC-2081VN', 'Laptop ASUS Gaming VivoBook K3605ZC-RP564W', 'Laptop Acer Aspire 3 Spin A3SP14-31PT-387Z', 'Laptop Lenovo Ideapad Slim 5 14IAH8 83BF002NVN', 'Laptop MSI Modern 15 B12MO-487VN', 'Laptop Lenovo LOQ 15ARP9 83JC007HVN', 'Laptop ASUS Vivobook 14 OLED A1405ZA-KM264W', 'Laptop Acer Gaming Aspire 5 A515-58GM-53PZ', 'Laptop ASUS TUF Gaming F15 FX507ZC4-HN095W', 'Laptop Acer Aspire 3 A314-42P-R3B3 NX.KSFSV.001', 'Apple MacBook Air M1 256GB 2020 I Chính hãng Apple Việt Nam', 'Laptop ASUS VivoBook Go 14 E1404FA-NK177W']\n",
      "['Laptop Dell Inspiron 15 3520', 'Laptop MSI Gaming Thin 15 B13UC-2081VN', 'Laptop ASUS Gaming VivoBook K3605ZC-RP564W', 'Laptop Acer Aspire 3 Spin A3SP14-31PT-387Z', 'Laptop Lenovo Ideapad Slim 5 14IAH8 83BF002NVN', 'Laptop MSI Modern 15 B12MO-487VN', 'Laptop Lenovo LOQ 15ARP9 83JC007HVN', 'Laptop ASUS Vivobook 14 OLED A1405ZA-KM264W', 'Laptop Acer Gaming Aspire 5 A515-58GM-53PZ', 'Laptop ASUS TUF Gaming F15 FX507ZC4-HN095W', 'Laptop Acer Aspire 3 A314-42P-R3B3 NX.KSFSV.001', 'Apple MacBook Air M1 256GB 2020 I Chính hãng Apple Việt Nam', 'Laptop ASUS VivoBook Go 14 E1404FA-NK177W', 'Apple MacBook Air M2 2022 8GB 256GB I Chính hãng Apple Việt Nam']\n",
      "['Laptop Dell Inspiron 15 3520', 'Laptop MSI Gaming Thin 15 B13UC-2081VN', 'Laptop ASUS Gaming VivoBook K3605ZC-RP564W', 'Laptop Acer Aspire 3 Spin A3SP14-31PT-387Z', 'Laptop Lenovo Ideapad Slim 5 14IAH8 83BF002NVN', 'Laptop MSI Modern 15 B12MO-487VN', 'Laptop Lenovo LOQ 15ARP9 83JC007HVN', 'Laptop ASUS Vivobook 14 OLED A1405ZA-KM264W', 'Laptop Acer Gaming Aspire 5 A515-58GM-53PZ', 'Laptop ASUS TUF Gaming F15 FX507ZC4-HN095W', 'Laptop Acer Aspire 3 A314-42P-R3B3 NX.KSFSV.001', 'Apple MacBook Air M1 256GB 2020 I Chính hãng Apple Việt Nam', 'Laptop ASUS VivoBook Go 14 E1404FA-NK177W', 'Apple MacBook Air M2 2022 8GB 256GB I Chính hãng Apple Việt Nam', 'Laptop HP 240 G9 9E5W3PT']\n",
      "['Laptop Dell Inspiron 15 3520', 'Laptop MSI Gaming Thin 15 B13UC-2081VN', 'Laptop ASUS Gaming VivoBook K3605ZC-RP564W', 'Laptop Acer Aspire 3 Spin A3SP14-31PT-387Z', 'Laptop Lenovo Ideapad Slim 5 14IAH8 83BF002NVN', 'Laptop MSI Modern 15 B12MO-487VN', 'Laptop Lenovo LOQ 15ARP9 83JC007HVN', 'Laptop ASUS Vivobook 14 OLED A1405ZA-KM264W', 'Laptop Acer Gaming Aspire 5 A515-58GM-53PZ', 'Laptop ASUS TUF Gaming F15 FX507ZC4-HN095W', 'Laptop Acer Aspire 3 A314-42P-R3B3 NX.KSFSV.001', 'Apple MacBook Air M1 256GB 2020 I Chính hãng Apple Việt Nam', 'Laptop ASUS VivoBook Go 14 E1404FA-NK177W', 'Apple MacBook Air M2 2022 8GB 256GB I Chính hãng Apple Việt Nam', 'Laptop HP 240 G9 9E5W3PT', 'Laptop Lenovo Ideapad Slim 5 14IAH8 83BF002NVN']\n",
      "['Laptop Dell Inspiron 15 3520', 'Laptop MSI Gaming Thin 15 B13UC-2081VN', 'Laptop ASUS Gaming VivoBook K3605ZC-RP564W', 'Laptop Acer Aspire 3 Spin A3SP14-31PT-387Z', 'Laptop Lenovo Ideapad Slim 5 14IAH8 83BF002NVN', 'Laptop MSI Modern 15 B12MO-487VN', 'Laptop Lenovo LOQ 15ARP9 83JC007HVN', 'Laptop ASUS Vivobook 14 OLED A1405ZA-KM264W', 'Laptop Acer Gaming Aspire 5 A515-58GM-53PZ', 'Laptop ASUS TUF Gaming F15 FX507ZC4-HN095W', 'Laptop Acer Aspire 3 A314-42P-R3B3 NX.KSFSV.001', 'Apple MacBook Air M1 256GB 2020 I Chính hãng Apple Việt Nam', 'Laptop ASUS VivoBook Go 14 E1404FA-NK177W', 'Apple MacBook Air M2 2022 8GB 256GB I Chính hãng Apple Việt Nam', 'Laptop HP 240 G9 9E5W3PT', 'Laptop Lenovo Ideapad Slim 5 14IAH8 83BF002NVN', 'Laptop Lenovo IdeaPad Flex 5 14IAU7 82R700JQVN']\n",
      "['Laptop Dell Inspiron 15 3520', 'Laptop MSI Gaming Thin 15 B13UC-2081VN', 'Laptop ASUS Gaming VivoBook K3605ZC-RP564W', 'Laptop Acer Aspire 3 Spin A3SP14-31PT-387Z', 'Laptop Lenovo Ideapad Slim 5 14IAH8 83BF002NVN', 'Laptop MSI Modern 15 B12MO-487VN', 'Laptop Lenovo LOQ 15ARP9 83JC007HVN', 'Laptop ASUS Vivobook 14 OLED A1405ZA-KM264W', 'Laptop Acer Gaming Aspire 5 A515-58GM-53PZ', 'Laptop ASUS TUF Gaming F15 FX507ZC4-HN095W', 'Laptop Acer Aspire 3 A314-42P-R3B3 NX.KSFSV.001', 'Apple MacBook Air M1 256GB 2020 I Chính hãng Apple Việt Nam', 'Laptop ASUS VivoBook Go 14 E1404FA-NK177W', 'Apple MacBook Air M2 2022 8GB 256GB I Chính hãng Apple Việt Nam', 'Laptop HP 240 G9 9E5W3PT', 'Laptop Lenovo Ideapad Slim 5 14IAH8 83BF002NVN', 'Laptop Lenovo IdeaPad Flex 5 14IAU7 82R700JQVN', 'Laptop Lenovo LOQ 15IAX9 83GS001RVN']\n",
      "['Laptop Dell Inspiron 15 3520', 'Laptop MSI Gaming Thin 15 B13UC-2081VN', 'Laptop ASUS Gaming VivoBook K3605ZC-RP564W', 'Laptop Acer Aspire 3 Spin A3SP14-31PT-387Z', 'Laptop Lenovo Ideapad Slim 5 14IAH8 83BF002NVN', 'Laptop MSI Modern 15 B12MO-487VN', 'Laptop Lenovo LOQ 15ARP9 83JC007HVN', 'Laptop ASUS Vivobook 14 OLED A1405ZA-KM264W', 'Laptop Acer Gaming Aspire 5 A515-58GM-53PZ', 'Laptop ASUS TUF Gaming F15 FX507ZC4-HN095W', 'Laptop Acer Aspire 3 A314-42P-R3B3 NX.KSFSV.001', 'Apple MacBook Air M1 256GB 2020 I Chính hãng Apple Việt Nam', 'Laptop ASUS VivoBook Go 14 E1404FA-NK177W', 'Apple MacBook Air M2 2022 8GB 256GB I Chính hãng Apple Việt Nam', 'Laptop HP 240 G9 9E5W3PT', 'Laptop Lenovo Ideapad Slim 5 14IAH8 83BF002NVN', 'Laptop Lenovo IdeaPad Flex 5 14IAU7 82R700JQVN', 'Laptop Lenovo LOQ 15IAX9 83GS001RVN', 'Laptop HP Pavilion 15-EG3111TU 8U6L8PA']\n",
      "['Laptop Dell Inspiron 15 3520', 'Laptop MSI Gaming Thin 15 B13UC-2081VN', 'Laptop ASUS Gaming VivoBook K3605ZC-RP564W', 'Laptop Acer Aspire 3 Spin A3SP14-31PT-387Z', 'Laptop Lenovo Ideapad Slim 5 14IAH8 83BF002NVN', 'Laptop MSI Modern 15 B12MO-487VN', 'Laptop Lenovo LOQ 15ARP9 83JC007HVN', 'Laptop ASUS Vivobook 14 OLED A1405ZA-KM264W', 'Laptop Acer Gaming Aspire 5 A515-58GM-53PZ', 'Laptop ASUS TUF Gaming F15 FX507ZC4-HN095W', 'Laptop Acer Aspire 3 A314-42P-R3B3 NX.KSFSV.001', 'Apple MacBook Air M1 256GB 2020 I Chính hãng Apple Việt Nam', 'Laptop ASUS VivoBook Go 14 E1404FA-NK177W', 'Apple MacBook Air M2 2022 8GB 256GB I Chính hãng Apple Việt Nam', 'Laptop HP 240 G9 9E5W3PT', 'Laptop Lenovo Ideapad Slim 5 14IAH8 83BF002NVN', 'Laptop Lenovo IdeaPad Flex 5 14IAU7 82R700JQVN', 'Laptop Lenovo LOQ 15IAX9 83GS001RVN', 'Laptop HP Pavilion 15-EG3111TU 8U6L8PA', 'Laptop ASUS Gaming VivoBook K3605ZF-RP634W']\n",
      "['Laptop Dell Inspiron 15 3520', 'Laptop MSI Gaming Thin 15 B13UC-2081VN', 'Laptop ASUS Gaming VivoBook K3605ZC-RP564W', 'Laptop Acer Aspire 3 Spin A3SP14-31PT-387Z', 'Laptop Lenovo Ideapad Slim 5 14IAH8 83BF002NVN', 'Laptop MSI Modern 15 B12MO-487VN', 'Laptop Lenovo LOQ 15ARP9 83JC007HVN', 'Laptop ASUS Vivobook 14 OLED A1405ZA-KM264W', 'Laptop Acer Gaming Aspire 5 A515-58GM-53PZ', 'Laptop ASUS TUF Gaming F15 FX507ZC4-HN095W', 'Laptop Acer Aspire 3 A314-42P-R3B3 NX.KSFSV.001', 'Apple MacBook Air M1 256GB 2020 I Chính hãng Apple Việt Nam', 'Laptop ASUS VivoBook Go 14 E1404FA-NK177W', 'Apple MacBook Air M2 2022 8GB 256GB I Chính hãng Apple Việt Nam', 'Laptop HP 240 G9 9E5W3PT', 'Laptop Lenovo Ideapad Slim 5 14IAH8 83BF002NVN', 'Laptop Lenovo IdeaPad Flex 5 14IAU7 82R700JQVN', 'Laptop Lenovo LOQ 15IAX9 83GS001RVN', 'Laptop HP Pavilion 15-EG3111TU 8U6L8PA', 'Laptop ASUS Gaming VivoBook K3605ZF-RP634W', 'Laptop ASUS Vivobook 14 OLED A1405ZA-KM263W']\n",
      "['Laptop Dell Inspiron 15 3520', 'Laptop MSI Gaming Thin 15 B13UC-2081VN', 'Laptop ASUS Gaming VivoBook K3605ZC-RP564W', 'Laptop Acer Aspire 3 Spin A3SP14-31PT-387Z', 'Laptop Lenovo Ideapad Slim 5 14IAH8 83BF002NVN', 'Laptop MSI Modern 15 B12MO-487VN', 'Laptop Lenovo LOQ 15ARP9 83JC007HVN', 'Laptop ASUS Vivobook 14 OLED A1405ZA-KM264W', 'Laptop Acer Gaming Aspire 5 A515-58GM-53PZ', 'Laptop ASUS TUF Gaming F15 FX507ZC4-HN095W', 'Laptop Acer Aspire 3 A314-42P-R3B3 NX.KSFSV.001', 'Apple MacBook Air M1 256GB 2020 I Chính hãng Apple Việt Nam', 'Laptop ASUS VivoBook Go 14 E1404FA-NK177W', 'Apple MacBook Air M2 2022 8GB 256GB I Chính hãng Apple Việt Nam', 'Laptop HP 240 G9 9E5W3PT', 'Laptop Lenovo Ideapad Slim 5 14IAH8 83BF002NVN', 'Laptop Lenovo IdeaPad Flex 5 14IAU7 82R700JQVN', 'Laptop Lenovo LOQ 15IAX9 83GS001RVN', 'Laptop HP Pavilion 15-EG3111TU 8U6L8PA', 'Laptop ASUS Gaming VivoBook K3605ZF-RP634W', 'Laptop ASUS Vivobook 14 OLED A1405ZA-KM263W', 'Laptop Dell Inspiron 15 3520']\n",
      "['Laptop Dell Inspiron 15 3520', 'Laptop MSI Gaming Thin 15 B13UC-2081VN', 'Laptop ASUS Gaming VivoBook K3605ZC-RP564W', 'Laptop Acer Aspire 3 Spin A3SP14-31PT-387Z', 'Laptop Lenovo Ideapad Slim 5 14IAH8 83BF002NVN', 'Laptop MSI Modern 15 B12MO-487VN', 'Laptop Lenovo LOQ 15ARP9 83JC007HVN', 'Laptop ASUS Vivobook 14 OLED A1405ZA-KM264W', 'Laptop Acer Gaming Aspire 5 A515-58GM-53PZ', 'Laptop ASUS TUF Gaming F15 FX507ZC4-HN095W', 'Laptop Acer Aspire 3 A314-42P-R3B3 NX.KSFSV.001', 'Apple MacBook Air M1 256GB 2020 I Chính hãng Apple Việt Nam', 'Laptop ASUS VivoBook Go 14 E1404FA-NK177W', 'Apple MacBook Air M2 2022 8GB 256GB I Chính hãng Apple Việt Nam', 'Laptop HP 240 G9 9E5W3PT', 'Laptop Lenovo Ideapad Slim 5 14IAH8 83BF002NVN', 'Laptop Lenovo IdeaPad Flex 5 14IAU7 82R700JQVN', 'Laptop Lenovo LOQ 15IAX9 83GS001RVN', 'Laptop HP Pavilion 15-EG3111TU 8U6L8PA', 'Laptop ASUS Gaming VivoBook K3605ZF-RP634W', 'Laptop ASUS Vivobook 14 OLED A1405ZA-KM263W', 'Laptop Dell Inspiron 15 3520', 'Laptop ASUS Zenbook S 14 OLED UX5406SA-PV140WS']\n",
      "['Laptop Dell Inspiron 15 3520', 'Laptop MSI Gaming Thin 15 B13UC-2081VN', 'Laptop ASUS Gaming VivoBook K3605ZC-RP564W', 'Laptop Acer Aspire 3 Spin A3SP14-31PT-387Z', 'Laptop Lenovo Ideapad Slim 5 14IAH8 83BF002NVN', 'Laptop MSI Modern 15 B12MO-487VN', 'Laptop Lenovo LOQ 15ARP9 83JC007HVN', 'Laptop ASUS Vivobook 14 OLED A1405ZA-KM264W', 'Laptop Acer Gaming Aspire 5 A515-58GM-53PZ', 'Laptop ASUS TUF Gaming F15 FX507ZC4-HN095W', 'Laptop Acer Aspire 3 A314-42P-R3B3 NX.KSFSV.001', 'Apple MacBook Air M1 256GB 2020 I Chính hãng Apple Việt Nam', 'Laptop ASUS VivoBook Go 14 E1404FA-NK177W', 'Apple MacBook Air M2 2022 8GB 256GB I Chính hãng Apple Việt Nam', 'Laptop HP 240 G9 9E5W3PT', 'Laptop Lenovo Ideapad Slim 5 14IAH8 83BF002NVN', 'Laptop Lenovo IdeaPad Flex 5 14IAU7 82R700JQVN', 'Laptop Lenovo LOQ 15IAX9 83GS001RVN', 'Laptop HP Pavilion 15-EG3111TU 8U6L8PA', 'Laptop ASUS Gaming VivoBook K3605ZF-RP634W', 'Laptop ASUS Vivobook 14 OLED A1405ZA-KM263W', 'Laptop Dell Inspiron 15 3520', 'Laptop ASUS Zenbook S 14 OLED UX5406SA-PV140WS', 'Laptop Gaming Acer Nitro 5 Tiger AN515 58 52SP']\n",
      "['Laptop Dell Inspiron 15 3520', 'Laptop MSI Gaming Thin 15 B13UC-2081VN', 'Laptop ASUS Gaming VivoBook K3605ZC-RP564W', 'Laptop Acer Aspire 3 Spin A3SP14-31PT-387Z', 'Laptop Lenovo Ideapad Slim 5 14IAH8 83BF002NVN', 'Laptop MSI Modern 15 B12MO-487VN', 'Laptop Lenovo LOQ 15ARP9 83JC007HVN', 'Laptop ASUS Vivobook 14 OLED A1405ZA-KM264W', 'Laptop Acer Gaming Aspire 5 A515-58GM-53PZ', 'Laptop ASUS TUF Gaming F15 FX507ZC4-HN095W', 'Laptop Acer Aspire 3 A314-42P-R3B3 NX.KSFSV.001', 'Apple MacBook Air M1 256GB 2020 I Chính hãng Apple Việt Nam', 'Laptop ASUS VivoBook Go 14 E1404FA-NK177W', 'Apple MacBook Air M2 2022 8GB 256GB I Chính hãng Apple Việt Nam', 'Laptop HP 240 G9 9E5W3PT', 'Laptop Lenovo Ideapad Slim 5 14IAH8 83BF002NVN', 'Laptop Lenovo IdeaPad Flex 5 14IAU7 82R700JQVN', 'Laptop Lenovo LOQ 15IAX9 83GS001RVN', 'Laptop HP Pavilion 15-EG3111TU 8U6L8PA', 'Laptop ASUS Gaming VivoBook K3605ZF-RP634W', 'Laptop ASUS Vivobook 14 OLED A1405ZA-KM263W', 'Laptop Dell Inspiron 15 3520', 'Laptop ASUS Zenbook S 14 OLED UX5406SA-PV140WS', 'Laptop Gaming Acer Nitro 5 Tiger AN515 58 52SP', 'Apple MacBook Air M2 2022 16GB 256GB I Chính hãng Apple Việt Nam']\n",
      "['Laptop Dell Inspiron 15 3520', 'Laptop MSI Gaming Thin 15 B13UC-2081VN', 'Laptop ASUS Gaming VivoBook K3605ZC-RP564W', 'Laptop Acer Aspire 3 Spin A3SP14-31PT-387Z', 'Laptop Lenovo Ideapad Slim 5 14IAH8 83BF002NVN', 'Laptop MSI Modern 15 B12MO-487VN', 'Laptop Lenovo LOQ 15ARP9 83JC007HVN', 'Laptop ASUS Vivobook 14 OLED A1405ZA-KM264W', 'Laptop Acer Gaming Aspire 5 A515-58GM-53PZ', 'Laptop ASUS TUF Gaming F15 FX507ZC4-HN095W', 'Laptop Acer Aspire 3 A314-42P-R3B3 NX.KSFSV.001', 'Apple MacBook Air M1 256GB 2020 I Chính hãng Apple Việt Nam', 'Laptop ASUS VivoBook Go 14 E1404FA-NK177W', 'Apple MacBook Air M2 2022 8GB 256GB I Chính hãng Apple Việt Nam', 'Laptop HP 240 G9 9E5W3PT', 'Laptop Lenovo Ideapad Slim 5 14IAH8 83BF002NVN', 'Laptop Lenovo IdeaPad Flex 5 14IAU7 82R700JQVN', 'Laptop Lenovo LOQ 15IAX9 83GS001RVN', 'Laptop HP Pavilion 15-EG3111TU 8U6L8PA', 'Laptop ASUS Gaming VivoBook K3605ZF-RP634W', 'Laptop ASUS Vivobook 14 OLED A1405ZA-KM263W', 'Laptop Dell Inspiron 15 3520', 'Laptop ASUS Zenbook S 14 OLED UX5406SA-PV140WS', 'Laptop Gaming Acer Nitro 5 Tiger AN515 58 52SP', 'Apple MacBook Air M2 2022 16GB 256GB I Chính hãng Apple Việt Nam', 'Laptop Acer Aspire 3 A315-59-381E']\n",
      "['Laptop Dell Inspiron 15 3520', 'Laptop MSI Gaming Thin 15 B13UC-2081VN', 'Laptop ASUS Gaming VivoBook K3605ZC-RP564W', 'Laptop Acer Aspire 3 Spin A3SP14-31PT-387Z', 'Laptop Lenovo Ideapad Slim 5 14IAH8 83BF002NVN', 'Laptop MSI Modern 15 B12MO-487VN', 'Laptop Lenovo LOQ 15ARP9 83JC007HVN', 'Laptop ASUS Vivobook 14 OLED A1405ZA-KM264W', 'Laptop Acer Gaming Aspire 5 A515-58GM-53PZ', 'Laptop ASUS TUF Gaming F15 FX507ZC4-HN095W', 'Laptop Acer Aspire 3 A314-42P-R3B3 NX.KSFSV.001', 'Apple MacBook Air M1 256GB 2020 I Chính hãng Apple Việt Nam', 'Laptop ASUS VivoBook Go 14 E1404FA-NK177W', 'Apple MacBook Air M2 2022 8GB 256GB I Chính hãng Apple Việt Nam', 'Laptop HP 240 G9 9E5W3PT', 'Laptop Lenovo Ideapad Slim 5 14IAH8 83BF002NVN', 'Laptop Lenovo IdeaPad Flex 5 14IAU7 82R700JQVN', 'Laptop Lenovo LOQ 15IAX9 83GS001RVN', 'Laptop HP Pavilion 15-EG3111TU 8U6L8PA', 'Laptop ASUS Gaming VivoBook K3605ZF-RP634W', 'Laptop ASUS Vivobook 14 OLED A1405ZA-KM263W', 'Laptop Dell Inspiron 15 3520', 'Laptop ASUS Zenbook S 14 OLED UX5406SA-PV140WS', 'Laptop Gaming Acer Nitro 5 Tiger AN515 58 52SP', 'Apple MacBook Air M2 2022 16GB 256GB I Chính hãng Apple Việt Nam', 'Laptop Acer Aspire 3 A315-59-381E', 'Laptop ASUS TUF Gaming F15 FX507ZC4-HN074W']\n",
      "['Laptop Dell Inspiron 15 3520', 'Laptop MSI Gaming Thin 15 B13UC-2081VN', 'Laptop ASUS Gaming VivoBook K3605ZC-RP564W', 'Laptop Acer Aspire 3 Spin A3SP14-31PT-387Z', 'Laptop Lenovo Ideapad Slim 5 14IAH8 83BF002NVN', 'Laptop MSI Modern 15 B12MO-487VN', 'Laptop Lenovo LOQ 15ARP9 83JC007HVN', 'Laptop ASUS Vivobook 14 OLED A1405ZA-KM264W', 'Laptop Acer Gaming Aspire 5 A515-58GM-53PZ', 'Laptop ASUS TUF Gaming F15 FX507ZC4-HN095W', 'Laptop Acer Aspire 3 A314-42P-R3B3 NX.KSFSV.001', 'Apple MacBook Air M1 256GB 2020 I Chính hãng Apple Việt Nam', 'Laptop ASUS VivoBook Go 14 E1404FA-NK177W', 'Apple MacBook Air M2 2022 8GB 256GB I Chính hãng Apple Việt Nam', 'Laptop HP 240 G9 9E5W3PT', 'Laptop Lenovo Ideapad Slim 5 14IAH8 83BF002NVN', 'Laptop Lenovo IdeaPad Flex 5 14IAU7 82R700JQVN', 'Laptop Lenovo LOQ 15IAX9 83GS001RVN', 'Laptop HP Pavilion 15-EG3111TU 8U6L8PA', 'Laptop ASUS Gaming VivoBook K3605ZF-RP634W', 'Laptop ASUS Vivobook 14 OLED A1405ZA-KM263W', 'Laptop Dell Inspiron 15 3520', 'Laptop ASUS Zenbook S 14 OLED UX5406SA-PV140WS', 'Laptop Gaming Acer Nitro 5 Tiger AN515 58 52SP', 'Apple MacBook Air M2 2022 16GB 256GB I Chính hãng Apple Việt Nam', 'Laptop Acer Aspire 3 A315-59-381E', 'Laptop ASUS TUF Gaming F15 FX507ZC4-HN074W', 'Laptop ASUS Vivobook 14 OLED A1405ZA-KM264W']\n",
      "['Laptop Dell Inspiron 15 3520', 'Laptop MSI Gaming Thin 15 B13UC-2081VN', 'Laptop ASUS Gaming VivoBook K3605ZC-RP564W', 'Laptop Acer Aspire 3 Spin A3SP14-31PT-387Z', 'Laptop Lenovo Ideapad Slim 5 14IAH8 83BF002NVN', 'Laptop MSI Modern 15 B12MO-487VN', 'Laptop Lenovo LOQ 15ARP9 83JC007HVN', 'Laptop ASUS Vivobook 14 OLED A1405ZA-KM264W', 'Laptop Acer Gaming Aspire 5 A515-58GM-53PZ', 'Laptop ASUS TUF Gaming F15 FX507ZC4-HN095W', 'Laptop Acer Aspire 3 A314-42P-R3B3 NX.KSFSV.001', 'Apple MacBook Air M1 256GB 2020 I Chính hãng Apple Việt Nam', 'Laptop ASUS VivoBook Go 14 E1404FA-NK177W', 'Apple MacBook Air M2 2022 8GB 256GB I Chính hãng Apple Việt Nam', 'Laptop HP 240 G9 9E5W3PT', 'Laptop Lenovo Ideapad Slim 5 14IAH8 83BF002NVN', 'Laptop Lenovo IdeaPad Flex 5 14IAU7 82R700JQVN', 'Laptop Lenovo LOQ 15IAX9 83GS001RVN', 'Laptop HP Pavilion 15-EG3111TU 8U6L8PA', 'Laptop ASUS Gaming VivoBook K3605ZF-RP634W', 'Laptop ASUS Vivobook 14 OLED A1405ZA-KM263W', 'Laptop Dell Inspiron 15 3520', 'Laptop ASUS Zenbook S 14 OLED UX5406SA-PV140WS', 'Laptop Gaming Acer Nitro 5 Tiger AN515 58 52SP', 'Apple MacBook Air M2 2022 16GB 256GB I Chính hãng Apple Việt Nam', 'Laptop Acer Aspire 3 A315-59-381E', 'Laptop ASUS TUF Gaming F15 FX507ZC4-HN074W', 'Laptop ASUS Vivobook 14 OLED A1405ZA-KM264W', 'Laptop Lenovo LOQ 15IAX9 83GS001SVN']\n",
      "['Laptop Dell Inspiron 15 3520', 'Laptop MSI Gaming Thin 15 B13UC-2081VN', 'Laptop ASUS Gaming VivoBook K3605ZC-RP564W', 'Laptop Acer Aspire 3 Spin A3SP14-31PT-387Z', 'Laptop Lenovo Ideapad Slim 5 14IAH8 83BF002NVN', 'Laptop MSI Modern 15 B12MO-487VN', 'Laptop Lenovo LOQ 15ARP9 83JC007HVN', 'Laptop ASUS Vivobook 14 OLED A1405ZA-KM264W', 'Laptop Acer Gaming Aspire 5 A515-58GM-53PZ', 'Laptop ASUS TUF Gaming F15 FX507ZC4-HN095W', 'Laptop Acer Aspire 3 A314-42P-R3B3 NX.KSFSV.001', 'Apple MacBook Air M1 256GB 2020 I Chính hãng Apple Việt Nam', 'Laptop ASUS VivoBook Go 14 E1404FA-NK177W', 'Apple MacBook Air M2 2022 8GB 256GB I Chính hãng Apple Việt Nam', 'Laptop HP 240 G9 9E5W3PT', 'Laptop Lenovo Ideapad Slim 5 14IAH8 83BF002NVN', 'Laptop Lenovo IdeaPad Flex 5 14IAU7 82R700JQVN', 'Laptop Lenovo LOQ 15IAX9 83GS001RVN', 'Laptop HP Pavilion 15-EG3111TU 8U6L8PA', 'Laptop ASUS Gaming VivoBook K3605ZF-RP634W', 'Laptop ASUS Vivobook 14 OLED A1405ZA-KM263W', 'Laptop Dell Inspiron 15 3520', 'Laptop ASUS Zenbook S 14 OLED UX5406SA-PV140WS', 'Laptop Gaming Acer Nitro 5 Tiger AN515 58 52SP', 'Apple MacBook Air M2 2022 16GB 256GB I Chính hãng Apple Việt Nam', 'Laptop Acer Aspire 3 A315-59-381E', 'Laptop ASUS TUF Gaming F15 FX507ZC4-HN074W', 'Laptop ASUS Vivobook 14 OLED A1405ZA-KM264W', 'Laptop Lenovo LOQ 15IAX9 83GS001SVN', 'Laptop HP 15S-FQ5231TU 8U241PA']\n"
     ]
    }
   ],
   "source": [
    "# Lists to store scraped data\n",
    "laptop_names = []\n",
    "laptop_prices = []\n",
    "laptop_links = []\n",
    "\n",
    "# Extracting relevant data from the page\n",
    "for product in soup.find_all('div', class_='product-info'):\n",
    "    # print(product)\n",
    "    # print('-------------------')\n",
    "    # Get the laptop name\n",
    "    name = product.find('div', class_='product__name')\n",
    "    if name:\n",
    "        laptop_names.append(name.text.strip())\n",
    "\n",
    "    # Get the laptop price\n",
    "    price = product.find('div', class_='block-box-price')\n",
    "    if price:\n",
    "        laptop_prices.append(price.text.strip())\n",
    "    \n",
    "    # Get the laptop link\n",
    "    link = product.find('a')\n",
    "    if link:\n",
    "        laptop_links.append(\"https://cellphones.com.vn/\" + link['href'])"
   ]
  },
  {
   "cell_type": "code",
   "execution_count": 11,
   "id": "f8e75091-0a5d-48b3-8412-c148e497ea77",
   "metadata": {},
   "outputs": [
    {
     "ename": "ValueError",
     "evalue": "All arrays must be of the same length",
     "output_type": "error",
     "traceback": [
      "\u001b[1;31m---------------------------------------------------------------------------\u001b[0m",
      "\u001b[1;31mValueError\u001b[0m                                Traceback (most recent call last)",
      "Cell \u001b[1;32mIn[11], line 1\u001b[0m\n\u001b[1;32m----> 1\u001b[0m laptops_df \u001b[38;5;241m=\u001b[39m pd\u001b[38;5;241m.\u001b[39mDataFrame({\n\u001b[0;32m      2\u001b[0m     \u001b[38;5;124m'\u001b[39m\u001b[38;5;124mName\u001b[39m\u001b[38;5;124m'\u001b[39m: laptop_names,\n\u001b[0;32m      3\u001b[0m     \u001b[38;5;124m'\u001b[39m\u001b[38;5;124mPrice\u001b[39m\u001b[38;5;124m'\u001b[39m: laptop_prices,\n\u001b[0;32m      4\u001b[0m     \u001b[38;5;124m'\u001b[39m\u001b[38;5;124mLink\u001b[39m\u001b[38;5;124m'\u001b[39m: laptop_links\n\u001b[0;32m      5\u001b[0m })\n",
      "File \u001b[1;32m~\\anaconda3\\Lib\\site-packages\\pandas\\core\\frame.py:778\u001b[0m, in \u001b[0;36mDataFrame.__init__\u001b[1;34m(self, data, index, columns, dtype, copy)\u001b[0m\n\u001b[0;32m    772\u001b[0m     mgr \u001b[38;5;241m=\u001b[39m \u001b[38;5;28mself\u001b[39m\u001b[38;5;241m.\u001b[39m_init_mgr(\n\u001b[0;32m    773\u001b[0m         data, axes\u001b[38;5;241m=\u001b[39m{\u001b[38;5;124m\"\u001b[39m\u001b[38;5;124mindex\u001b[39m\u001b[38;5;124m\"\u001b[39m: index, \u001b[38;5;124m\"\u001b[39m\u001b[38;5;124mcolumns\u001b[39m\u001b[38;5;124m\"\u001b[39m: columns}, dtype\u001b[38;5;241m=\u001b[39mdtype, copy\u001b[38;5;241m=\u001b[39mcopy\n\u001b[0;32m    774\u001b[0m     )\n\u001b[0;32m    776\u001b[0m \u001b[38;5;28;01melif\u001b[39;00m \u001b[38;5;28misinstance\u001b[39m(data, \u001b[38;5;28mdict\u001b[39m):\n\u001b[0;32m    777\u001b[0m     \u001b[38;5;66;03m# GH#38939 de facto copy defaults to False only in non-dict cases\u001b[39;00m\n\u001b[1;32m--> 778\u001b[0m     mgr \u001b[38;5;241m=\u001b[39m dict_to_mgr(data, index, columns, dtype\u001b[38;5;241m=\u001b[39mdtype, copy\u001b[38;5;241m=\u001b[39mcopy, typ\u001b[38;5;241m=\u001b[39mmanager)\n\u001b[0;32m    779\u001b[0m \u001b[38;5;28;01melif\u001b[39;00m \u001b[38;5;28misinstance\u001b[39m(data, ma\u001b[38;5;241m.\u001b[39mMaskedArray):\n\u001b[0;32m    780\u001b[0m     \u001b[38;5;28;01mfrom\u001b[39;00m \u001b[38;5;21;01mnumpy\u001b[39;00m\u001b[38;5;21;01m.\u001b[39;00m\u001b[38;5;21;01mma\u001b[39;00m \u001b[38;5;28;01mimport\u001b[39;00m mrecords\n",
      "File \u001b[1;32m~\\anaconda3\\Lib\\site-packages\\pandas\\core\\internals\\construction.py:503\u001b[0m, in \u001b[0;36mdict_to_mgr\u001b[1;34m(data, index, columns, dtype, typ, copy)\u001b[0m\n\u001b[0;32m    499\u001b[0m     \u001b[38;5;28;01melse\u001b[39;00m:\n\u001b[0;32m    500\u001b[0m         \u001b[38;5;66;03m# dtype check to exclude e.g. range objects, scalars\u001b[39;00m\n\u001b[0;32m    501\u001b[0m         arrays \u001b[38;5;241m=\u001b[39m [x\u001b[38;5;241m.\u001b[39mcopy() \u001b[38;5;28;01mif\u001b[39;00m \u001b[38;5;28mhasattr\u001b[39m(x, \u001b[38;5;124m\"\u001b[39m\u001b[38;5;124mdtype\u001b[39m\u001b[38;5;124m\"\u001b[39m) \u001b[38;5;28;01melse\u001b[39;00m x \u001b[38;5;28;01mfor\u001b[39;00m x \u001b[38;5;129;01min\u001b[39;00m arrays]\n\u001b[1;32m--> 503\u001b[0m \u001b[38;5;28;01mreturn\u001b[39;00m arrays_to_mgr(arrays, columns, index, dtype\u001b[38;5;241m=\u001b[39mdtype, typ\u001b[38;5;241m=\u001b[39mtyp, consolidate\u001b[38;5;241m=\u001b[39mcopy)\n",
      "File \u001b[1;32m~\\anaconda3\\Lib\\site-packages\\pandas\\core\\internals\\construction.py:114\u001b[0m, in \u001b[0;36marrays_to_mgr\u001b[1;34m(arrays, columns, index, dtype, verify_integrity, typ, consolidate)\u001b[0m\n\u001b[0;32m    111\u001b[0m \u001b[38;5;28;01mif\u001b[39;00m verify_integrity:\n\u001b[0;32m    112\u001b[0m     \u001b[38;5;66;03m# figure out the index, if necessary\u001b[39;00m\n\u001b[0;32m    113\u001b[0m     \u001b[38;5;28;01mif\u001b[39;00m index \u001b[38;5;129;01mis\u001b[39;00m \u001b[38;5;28;01mNone\u001b[39;00m:\n\u001b[1;32m--> 114\u001b[0m         index \u001b[38;5;241m=\u001b[39m _extract_index(arrays)\n\u001b[0;32m    115\u001b[0m     \u001b[38;5;28;01melse\u001b[39;00m:\n\u001b[0;32m    116\u001b[0m         index \u001b[38;5;241m=\u001b[39m ensure_index(index)\n",
      "File \u001b[1;32m~\\anaconda3\\Lib\\site-packages\\pandas\\core\\internals\\construction.py:677\u001b[0m, in \u001b[0;36m_extract_index\u001b[1;34m(data)\u001b[0m\n\u001b[0;32m    675\u001b[0m lengths \u001b[38;5;241m=\u001b[39m \u001b[38;5;28mlist\u001b[39m(\u001b[38;5;28mset\u001b[39m(raw_lengths))\n\u001b[0;32m    676\u001b[0m \u001b[38;5;28;01mif\u001b[39;00m \u001b[38;5;28mlen\u001b[39m(lengths) \u001b[38;5;241m>\u001b[39m \u001b[38;5;241m1\u001b[39m:\n\u001b[1;32m--> 677\u001b[0m     \u001b[38;5;28;01mraise\u001b[39;00m \u001b[38;5;167;01mValueError\u001b[39;00m(\u001b[38;5;124m\"\u001b[39m\u001b[38;5;124mAll arrays must be of the same length\u001b[39m\u001b[38;5;124m\"\u001b[39m)\n\u001b[0;32m    679\u001b[0m \u001b[38;5;28;01mif\u001b[39;00m have_dicts:\n\u001b[0;32m    680\u001b[0m     \u001b[38;5;28;01mraise\u001b[39;00m \u001b[38;5;167;01mValueError\u001b[39;00m(\n\u001b[0;32m    681\u001b[0m         \u001b[38;5;124m\"\u001b[39m\u001b[38;5;124mMixing dicts with non-Series may lead to ambiguous ordering.\u001b[39m\u001b[38;5;124m\"\u001b[39m\n\u001b[0;32m    682\u001b[0m     )\n",
      "\u001b[1;31mValueError\u001b[0m: All arrays must be of the same length"
     ]
    }
   ],
   "source": [
    "laptops_df = pd.DataFrame({\n",
    "    'Name': laptop_names,\n",
    "    'Price': laptop_prices,\n",
    "    'Link': laptop_links\n",
    "})"
   ]
  },
  {
   "cell_type": "code",
   "execution_count": null,
   "id": "9d6986ce-ab3f-448d-a8bd-feafc9c107a4",
   "metadata": {},
   "outputs": [],
   "source": []
  }
 ],
 "metadata": {
  "kernelspec": {
   "display_name": "Python 3 (ipykernel)",
   "language": "python",
   "name": "python3"
  },
  "language_info": {
   "codemirror_mode": {
    "name": "ipython",
    "version": 3
   },
   "file_extension": ".py",
   "mimetype": "text/x-python",
   "name": "python",
   "nbconvert_exporter": "python",
   "pygments_lexer": "ipython3",
   "version": "3.12.4"
  }
 },
 "nbformat": 4,
 "nbformat_minor": 5
}
