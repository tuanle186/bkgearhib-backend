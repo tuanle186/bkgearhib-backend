{
 "cells": [
  {
   "cell_type": "code",
   "execution_count": 136,
   "id": "71768c5d-65f4-4ea0-a29d-6e651b8aceeb",
   "metadata": {},
   "outputs": [],
   "source": [
    "import requests\n",
    "from bs4 import BeautifulSoup\n",
    "import pandas as pd\n",
    "import numpy as np"
   ]
  },
  {
   "cell_type": "code",
   "execution_count": 3,
   "id": "b2e49de2-f0bd-4e7d-9372-61658d2d6ec8",
   "metadata": {},
   "outputs": [],
   "source": [
    "url = \"https://cellphones.com.vn/laptop.html\"\n",
    "\n",
    "# Fetch the page content\n",
    "response = requests.get(url)\n",
    "html_content = response.content\n",
    "\n",
    "# Parse the HTML content with BeautifulSoup\n",
    "soup = BeautifulSoup(html_content, 'html.parser')"
   ]
  },
  {
   "cell_type": "code",
   "execution_count": 16,
   "id": "c88b92ac-21a5-4ca5-83ac-ce17adff73f9",
   "metadata": {},
   "outputs": [],
   "source": [
    "# Lists to store scraped data\n",
    "laptop_names = []\n",
    "laptop_prices = []\n",
    "laptop_links = []\n",
    "laptop_img_urls = []\n",
    "\n",
    "# Extracting relevant data from the page\n",
    "for product in soup.find_all('div', class_='product-info'):\n",
    "    # print(product)\n",
    "    # print('-------------------')\n",
    "    \n",
    "    # Get the laptop name\n",
    "    name = product.find('div', class_='product__name')\n",
    "    if name:\n",
    "        laptop_names.append(name.text.strip())\n",
    "\n",
    "    # Get the laptop price\n",
    "    price = product.find('p', class_='product__price--show')\n",
    "    if price:\n",
    "        laptop_prices.append(price.text.strip())\n",
    "    \n",
    "    # Get the laptop link\n",
    "    link = product.find('a', class_='product__link button__link')\n",
    "    if link:\n",
    "        laptop_links.append(link['href'])\n",
    "\n",
    "    img_url = product.find('img')\n",
    "    if img_url:\n",
    "        laptop_img_urls.append(img_url['src'])"
   ]
  },
  {
   "cell_type": "code",
   "execution_count": 11,
   "id": "f8e75091-0a5d-48b3-8412-c148e497ea77",
   "metadata": {},
   "outputs": [],
   "source": [
    "laptops_df = pd.DataFrame({\n",
    "    'Name': laptop_names,\n",
    "    'Price': laptop_prices,\n",
    "    'Link': laptop_links,\n",
    "    'Img_url': laptop_img_urls\n",
    "})"
   ]
  },
  {
   "cell_type": "code",
   "execution_count": 13,
   "id": "9d6986ce-ab3f-448d-a8bd-feafc9c107a4",
   "metadata": {},
   "outputs": [],
   "source": [
    "laptops_df.to_csv('cellphones_laptops.csv')"
   ]
  },
  {
   "cell_type": "code",
   "execution_count": 67,
   "id": "0ec1f232-1816-4079-a6c4-d345d8ab3621",
   "metadata": {},
   "outputs": [
    {
     "name": "stdout",
     "output_type": "stream",
     "text": [
      "CSV converted and saved as output_file.csv\n"
     ]
    }
   ],
   "source": [
    "# Load the original CSV\n",
    "input_csv = 'cellphones_laptops.csv'  # Replace with your input CSV file path\n",
    "output_csv = 'output_file.csv'  # Replace with the desired output file path\n",
    "\n",
    "# Read the input CSV into a pandas DataFrame\n",
    "df = pd.read_csv(input_csv)\n",
    "\n",
    "# Initialize a new DataFrame with the desired columns\n",
    "output_columns = [\n",
    "    'Product Id', 'Product Handle', 'Product Title', 'Product Subtitle', 'Product Description',\n",
    "    'Product Status', 'Product Thumbnail', 'Product Weight', 'Product Length', 'Product Width',\n",
    "    'Product Height', 'Product HS Code', 'Product Origin Country', 'Product MID Code',\n",
    "    'Product Material', 'Product Collection Title', 'Product Collection Handle', 'Product Type',\n",
    "    'Product Tags', 'Product Discountable', 'Product External Id', 'Product Profile Name',\n",
    "    'Product Profile Type', 'Variant Id', 'Variant Title', 'Variant SKU', 'Variant Barcode',\n",
    "    'Variant Inventory Quantity', 'Variant Allow Backorder', 'Variant Manage Inventory',\n",
    "    'Variant Weight', 'Variant Length', 'Variant Width', 'Variant Height', 'Variant HS Code',\n",
    "    'Variant Origin Country', 'Variant MID Code', 'Variant Material', 'Price EUR', 'Price USD',\n",
    "    'Option 1 Name', 'Option 1 Value', 'Image 1 Url', 'Image 2 Url'\n",
    "]\n",
    "\n",
    "output_df = pd.DataFrame(columns=output_columns)\n",
    "\n",
    "# Populate the new DataFrame with the data from the old DataFrame\n",
    "output_df['Product Title'] = df['Name']\n",
    "output_df['Price USD'] = df['Price']  # Assuming the price is in USD\n",
    "output_df['Product Thumbnail'] = df['Img_url']\n",
    "output_df['Product Handle'] = df['Name'].str.lower().replace(' ', '-').replace('/', '-')  # Create handle by replacing spaces and slashes with dashes\n",
    "\n",
    "# Fill other columns with default or placeholder values\n",
    "output_df['Product Status'] = 'published'\n",
    "output_df['Product Discountable'] = 'true'\n",
    "output_df['Product Id'] = ''  # Keep Product Id blank as per request\n",
    "output_df['Variant Id'] = ''  # Keep Variant Id blank as per request\n",
    "output_df['Variant SKU'] = ''  # Keep Variant SKU blank as per request\n",
    "output_df['Variant Inventory Quantity'] = '100'\n",
    "output_df['Variant Allow Backorder'] = 'false'\n",
    "output_df['Variant Manage Inventory'] = 'true'\n",
    "output_df['Variant Title'] = df['Name']  # Use unique variant titles to avoid duplication error\n",
    "output_df['Option 1 Name'] = 'Size'  # Follow template format\n",
    "output_df['Option 1 Value'] = 'One Size'  # Use a default option value\n",
    "output_df['Product Subtitle'] = ''  # Leaving blank as per template\n",
    "output_df['Product Description'] = \"'Every programmer's best friend.'\"  # Placeholder description\n",
    "output_df['Product Weight'] = '400'  # Placeholder weight as per template\n",
    "output_df['Product Collection Title'] = ''\n",
    "output_df['Product Collection Handle'] = ''\n",
    "output_df['Product Type'] = ''\n",
    "output_df['Product Tags'] = ''\n",
    "output_df['Product External Id'] = ''\n",
    "output_df['Product Profile Name'] = ''\n",
    "output_df['Product Profile Type'] = ''\n",
    "output_df['Variant Barcode'] = ''\n",
    "output_df['Variant Weight'] = ''\n",
    "output_df['Variant Length'] = ''\n",
    "output_df['Variant Width'] = ''\n",
    "output_df['Variant Height'] = ''\n",
    "output_df['Variant HS Code'] = ''\n",
    "output_df['Variant Origin Country'] = ''\n",
    "output_df['Variant MID Code'] = ''\n",
    "output_df['Variant Material'] = ''\n",
    "output_df['Price EUR'] = ''\n",
    "output_df['Image 1 Url'] = df['Img_url']  # First image URL from original data\n",
    "output_df['Image 2 Url'] = ''  # Leaving blank for second image URL\n",
    "\n",
    "# Remove duplicate rows from the DataFrame\n",
    "output_df.drop_duplicates(inplace=True)\n",
    "\n",
    "# Save the new DataFrame to the desired output CSV file\n",
    "output_df.to_csv(output_csv, sep=';', index=False)\n",
    "\n",
    "print(f'CSV converted and saved as {output_csv}')"
   ]
  },
  {
   "cell_type": "code",
   "execution_count": 72,
   "id": "76763c4e-02e0-4660-a3b7-8d39aeb11a3e",
   "metadata": {},
   "outputs": [
    {
     "name": "stdout",
     "output_type": "stream",
     "text": [
      "CSV converted and saved as output_file.csv\n"
     ]
    }
   ],
   "source": [
    "# Load the original CSV\n",
    "input_csv = 'cellphones_laptops.csv'  # Replace with your input CSV file path\n",
    "output_csv = 'output_file.csv'  # Replace with the desired output file path\n",
    "\n",
    "# Read the input CSV into a pandas DataFrame\n",
    "df = pd.read_csv(input_csv)\n",
    "\n",
    "# Initialize a new DataFrame with the desired columns\n",
    "output_columns = [\n",
    "    'Product Id', 'Product Handle', 'Product Title', 'Product Subtitle', 'Product Description',\n",
    "    'Product Status', 'Product Thumbnail', 'Product Weight', 'Product Length', 'Product Width',\n",
    "    'Product Height', 'Product HS Code', 'Product Origin Country', 'Product MID Code',\n",
    "    'Product Material', 'Product Collection Title', 'Product Collection Handle', 'Product Type',\n",
    "    'Product Tags', 'Product Discountable', 'Product External Id', 'Product Profile Name',\n",
    "    'Product Profile Type', 'Variant Id', 'Variant Title', 'Variant SKU', 'Variant Barcode',\n",
    "    'Variant Inventory Quantity', 'Variant Allow Backorder', 'Variant Manage Inventory',\n",
    "    'Variant Weight', 'Variant Length', 'Variant Width', 'Variant Height', 'Variant HS Code',\n",
    "    'Variant Origin Country', 'Variant MID Code', 'Variant Material', 'Price EUR', 'Price USD',\n",
    "    'Price VND', 'Option 1 Name', 'Option 1 Value', 'Image 1 Url', 'Image 2 Url'\n",
    "]\n",
    "\n",
    "output_df = pd.DataFrame(columns=output_columns)\n",
    "\n",
    "# Populate the new DataFrame with the data from the old DataFrame\n",
    "output_df['Product Title'] = df['Name']\n",
    "output_df['Price VND'] = df['Price']  # Pass the original price to Price VND\n",
    "output_df['Price USD'] = ''  # Leave Price USD empty\n",
    "output_df['Product Thumbnail'] = df['Img_url']\n",
    "output_df['Product Handle'] = df['Name'].str.lower().replace(' ', '-').replace('/', '-')  # Create handle by replacing spaces and slashes with dashes\n",
    "\n",
    "# Fill other columns with default or placeholder values\n",
    "output_df['Product Status'] = 'published'\n",
    "output_df['Product Discountable'] = 'true'\n",
    "output_df['Product Id'] = ''  # Keep Product Id blank as per request\n",
    "output_df['Variant Id'] = ''  # Keep Variant Id blank as per request\n",
    "output_df['Variant SKU'] = ''  # Keep Variant SKU blank as per request\n",
    "output_df['Variant Inventory Quantity'] = '100'\n",
    "output_df['Variant Allow Backorder'] = 'false'\n",
    "output_df['Variant Manage Inventory'] = 'true'\n",
    "output_df['Variant Title'] = df['Name']  # Use unique variant titles to avoid duplication error\n",
    "output_df['Option 1 Name'] = 'Size'  # Follow template format\n",
    "output_df['Option 1 Value'] = 'One Size'  # Use a default option value\n",
    "output_df['Product Subtitle'] = ''  # Leaving blank as per template\n",
    "output_df['Product Description'] = \"'Every programmer's best friend.'\"  # Placeholder description\n",
    "output_df['Product Weight'] = '400'  # Placeholder weight as per template\n",
    "output_df['Product Collection Title'] = ''\n",
    "output_df['Product Collection Handle'] = ''\n",
    "output_df['Product Type'] = ''\n",
    "output_df['Product Tags'] = ''\n",
    "output_df['Product External Id'] = ''\n",
    "output_df['Product Profile Name'] = ''\n",
    "output_df['Product Profile Type'] = ''\n",
    "output_df['Variant Barcode'] = ''\n",
    "output_df['Variant Weight'] = ''\n",
    "output_df['Variant Length'] = ''\n",
    "output_df['Variant Width'] = ''\n",
    "output_df['Variant Height'] = ''\n",
    "output_df['Variant HS Code'] = ''\n",
    "output_df['Variant Origin Country'] = ''\n",
    "output_df['Variant MID Code'] = ''\n",
    "output_df['Variant Material'] = ''\n",
    "output_df['Price EUR'] = ''\n",
    "output_df['Image 1 Url'] = df['Img_url']  # First image URL from original data\n",
    "output_df['Image 2 Url'] = ''  # Leaving blank for second image URL\n",
    "\n",
    "# Remove duplicate rows from the DataFrame\n",
    "output_df.drop_duplicates(inplace=True)\n",
    "\n",
    "# Save the new DataFrame to the desired output CSV file\n",
    "output_df.to_csv(output_csv, sep=';', index=False)\n",
    "\n",
    "print(f'CSV converted and saved as {output_csv}')"
   ]
  },
  {
   "cell_type": "code",
   "execution_count": 177,
   "id": "b76bd41c-8f54-4e32-9f56-0af8a27b890a",
   "metadata": {},
   "outputs": [],
   "source": [
    "input_csv = 'export_2.csv'  # Replace with your input CSV file path\n",
    "output_csv = 'output_file.csv'  # Replace with the desired output file path\n",
    "\n",
    "df = pd.read_csv(input_csv, delimiter=';')"
   ]
  },
  {
   "cell_type": "code",
   "execution_count": 179,
   "id": "a542ec65-7c94-4e41-9171-c74bedfb020e",
   "metadata": {},
   "outputs": [
    {
     "data": {
      "text/plain": [
       "(27, 45)"
      ]
     },
     "execution_count": 179,
     "metadata": {},
     "output_type": "execute_result"
    }
   ],
   "source": [
    "df.shape"
   ]
  },
  {
   "cell_type": "code",
   "execution_count": 181,
   "id": "a21e90b9-a770-4d65-8d23-b5caf6fa353f",
   "metadata": {},
   "outputs": [
    {
     "data": {
      "text/plain": [
       "0     19290000\n",
       "1     18490000\n",
       "2     14990000\n",
       "3     15990000\n",
       "4      9490000\n",
       "5     16490000\n",
       "6     21390000\n",
       "7     16290000\n",
       "8     20290000\n",
       "9     15490000\n",
       "10    11990000\n",
       "11    18490000\n",
       "12    12390000\n",
       "13    23990000\n",
       "14    13990000\n",
       "15    11490000\n",
       "16    21290000\n",
       "17    18490000\n",
       "18    17290000\n",
       "19    18490000\n",
       "20    44990000\n",
       "21    18990000\n",
       "22    28990000\n",
       "23     9490000\n",
       "24    18990000\n",
       "25    19290000\n",
       "26    10490000\n",
       "Name: Price VND, dtype: int64"
      ]
     },
     "execution_count": 181,
     "metadata": {},
     "output_type": "execute_result"
    }
   ],
   "source": [
    "df['Price VND']"
   ]
  },
  {
   "cell_type": "code",
   "execution_count": 198,
   "id": "3da910b2-64b7-460b-9bad-41748e04215b",
   "metadata": {},
   "outputs": [],
   "source": [
    "df['Product Handle'] = df['Product Title'].str.replace(' ', '_')"
   ]
  },
  {
   "cell_type": "code",
   "execution_count": 200,
   "id": "6770df4a-5d3c-4120-8569-7f047a0012b3",
   "metadata": {},
   "outputs": [
    {
     "data": {
      "text/plain": [
       "0            Laptop_ASUS_Gaming_VivoBook_K3605ZC-RP564W\n",
       "1                Laptop_MSI_Gaming_Thin_15_B13UC-2081VN\n",
       "2                      Laptop_MSI_Modern_15_B12MO-487VN\n",
       "3        Laptop_Lenovo_Ideapad_Slim_5_14IAH8_83BF002NVN\n",
       "4            Laptop_Acer_Aspire_3_Spin_A3SP14-31PT-387Z\n",
       "5                          Laptop_Dell_Inspiron_15_3520\n",
       "6                   Laptop_Lenovo_LOQ_15ARP9_83JC007HVN\n",
       "7           Laptop_ASUS_Vivobook_14_OLED_A1405ZA-KM264W\n",
       "8            Laptop_ASUS_TUF_Gaming_F15_FX507ZC4-HN095W\n",
       "9            Laptop_Acer_Gaming_Aspire_5_A515-58GM-53PZ\n",
       "10      Laptop_Acer_Aspire_3_A314-42P-R3B3_NX.KSFSV.001\n",
       "11    Apple_MacBook_Air_M1_256GB_2020_I_Chính_hãng_A...\n",
       "12            Laptop_ASUS_VivoBook_Go_14_E1404FA-NK177W\n",
       "13    Apple_MacBook_Air_M2_2022_8GB_256GB_I_Chính_hã...\n",
       "14                             Laptop_HP_240_G9_9E5W3PT\n",
       "15       Laptop_Lenovo_IdeaPad_Flex_5_14IAU7_82R700JQVN\n",
       "16                  Laptop_Lenovo_LOQ_15IAX9_83GS001RVN\n",
       "17               Laptop_HP_Pavilion_15-EG3111TU_8U6L8PA\n",
       "18           Laptop_ASUS_Gaming_VivoBook_K3605ZF-RP634W\n",
       "19          Laptop_ASUS_Vivobook_14_OLED_A1405ZA-KM263W\n",
       "20       Laptop_ASUS_Zenbook_S_14_OLED_UX5406SA-PV140WS\n",
       "21       Laptop_Gaming_Acer_Nitro_5_Tiger_AN515_58_52SP\n",
       "22    Apple_MacBook_Air_M2_2022_16GB_256GB_I_Chính_h...\n",
       "23                    Laptop_Acer_Aspire_3_A315-59-381E\n",
       "24           Laptop_ASUS_TUF_Gaming_F15_FX507ZC4-HN074W\n",
       "25                  Laptop_Lenovo_LOQ_15IAX9_83GS001SVN\n",
       "26                       Laptop_HP_15S-FQ5231TU_8U241PA\n",
       "Name: Product Handle, dtype: object"
      ]
     },
     "execution_count": 200,
     "metadata": {},
     "output_type": "execute_result"
    }
   ],
   "source": [
    "df['Product Handle']"
   ]
  },
  {
   "cell_type": "code",
   "execution_count": 202,
   "id": "2bce13c4-6956-4246-92c9-0e935e3dddc3",
   "metadata": {},
   "outputs": [],
   "source": [
    "df.to_csv(output_csv, sep=';', index=False)"
   ]
  },
  {
   "cell_type": "code",
   "execution_count": null,
   "id": "e99d3f5f-2bf5-487b-b5f4-72579f8f0a6e",
   "metadata": {},
   "outputs": [],
   "source": []
  }
 ],
 "metadata": {
  "kernelspec": {
   "display_name": "Python 3 (ipykernel)",
   "language": "python",
   "name": "python3"
  },
  "language_info": {
   "codemirror_mode": {
    "name": "ipython",
    "version": 3
   },
   "file_extension": ".py",
   "mimetype": "text/x-python",
   "name": "python",
   "nbconvert_exporter": "python",
   "pygments_lexer": "ipython3",
   "version": "3.12.4"
  }
 },
 "nbformat": 4,
 "nbformat_minor": 5
}
