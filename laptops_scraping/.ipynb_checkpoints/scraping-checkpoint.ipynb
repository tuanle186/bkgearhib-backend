{
 "cells": [
  {
   "cell_type": "code",
   "execution_count": 1,
   "id": "71768c5d-65f4-4ea0-a29d-6e651b8aceeb",
   "metadata": {},
   "outputs": [],
   "source": [
    "import requests\n",
    "from bs4 import BeautifulSoup\n",
    "import pandas as pd"
   ]
  },
  {
   "cell_type": "code",
   "execution_count": 3,
   "id": "b2e49de2-f0bd-4e7d-9372-61658d2d6ec8",
   "metadata": {},
   "outputs": [],
   "source": [
    "url = \"https://cellphones.com.vn/laptop.html\"\n",
    "\n",
    "# Fetch the page content\n",
    "response = requests.get(url)\n",
    "html_content = response.content\n",
    "\n",
    "# Parse the HTML content with BeautifulSoup\n",
    "soup = BeautifulSoup(html_content, 'html.parser')"
   ]
  },
  {
   "cell_type": "code",
   "execution_count": 16,
   "id": "c88b92ac-21a5-4ca5-83ac-ce17adff73f9",
   "metadata": {},
   "outputs": [],
   "source": [
    "# Lists to store scraped data\n",
    "laptop_names = []\n",
    "laptop_prices = []\n",
    "laptop_links = []\n",
    "laptop_img_urls = []\n",
    "\n",
    "# Extracting relevant data from the page\n",
    "for product in soup.find_all('div', class_='product-info'):\n",
    "    # print(product)\n",
    "    # print('-------------------')\n",
    "    \n",
    "    # Get the laptop name\n",
    "    name = product.find('div', class_='product__name')\n",
    "    if name:\n",
    "        laptop_names.append(name.text.strip())\n",
    "\n",
    "    # Get the laptop price\n",
    "    price = product.find('p', class_='product__price--show')\n",
    "    if price:\n",
    "        laptop_prices.append(price.text.strip())\n",
    "    \n",
    "    # Get the laptop link\n",
    "    link = product.find('a', class_='product__link button__link')\n",
    "    if link:\n",
    "        laptop_links.append(link['href'])\n",
    "\n",
    "    img_url = product.find('img')\n",
    "    if img_url:\n",
    "        laptop_img_urls.append(img_url['src'])"
   ]
  },
  {
   "cell_type": "code",
   "execution_count": 11,
   "id": "f8e75091-0a5d-48b3-8412-c148e497ea77",
   "metadata": {},
   "outputs": [],
   "source": [
    "laptops_df = pd.DataFrame({\n",
    "    'Name': laptop_names,\n",
    "    'Price': laptop_prices,\n",
    "    'Link': laptop_links,\n",
    "    'Img_url': laptop_img_urls\n",
    "})"
   ]
  },
  {
   "cell_type": "code",
   "execution_count": 13,
   "id": "9d6986ce-ab3f-448d-a8bd-feafc9c107a4",
   "metadata": {},
   "outputs": [],
   "source": [
    "laptops_df.to_csv('cellphones_laptops.csv')"
   ]
  },
  {
   "cell_type": "code",
   "execution_count": 67,
   "id": "0ec1f232-1816-4079-a6c4-d345d8ab3621",
   "metadata": {},
   "outputs": [
    {
     "name": "stdout",
     "output_type": "stream",
     "text": [
      "CSV converted and saved as output_file.csv\n"
     ]
    }
   ],
   "source": [
    "# Load the original CSV\n",
    "input_csv = 'cellphones_laptops.csv'  # Replace with your input CSV file path\n",
    "output_csv = 'output_file.csv'  # Replace with the desired output file path\n",
    "\n",
    "# Read the input CSV into a pandas DataFrame\n",
    "df = pd.read_csv(input_csv)\n",
    "\n",
    "# Initialize a new DataFrame with the desired columns\n",
    "output_columns = [\n",
    "    'Product Id', 'Product Handle', 'Product Title', 'Product Subtitle', 'Product Description',\n",
    "    'Product Status', 'Product Thumbnail', 'Product Weight', 'Product Length', 'Product Width',\n",
    "    'Product Height', 'Product HS Code', 'Product Origin Country', 'Product MID Code',\n",
    "    'Product Material', 'Product Collection Title', 'Product Collection Handle', 'Product Type',\n",
    "    'Product Tags', 'Product Discountable', 'Product External Id', 'Product Profile Name',\n",
    "    'Product Profile Type', 'Variant Id', 'Variant Title', 'Variant SKU', 'Variant Barcode',\n",
    "    'Variant Inventory Quantity', 'Variant Allow Backorder', 'Variant Manage Inventory',\n",
    "    'Variant Weight', 'Variant Length', 'Variant Width', 'Variant Height', 'Variant HS Code',\n",
    "    'Variant Origin Country', 'Variant MID Code', 'Variant Material', 'Price EUR', 'Price USD',\n",
    "    'Option 1 Name', 'Option 1 Value', 'Image 1 Url', 'Image 2 Url'\n",
    "]\n",
    "\n",
    "output_df = pd.DataFrame(columns=output_columns)\n",
    "\n",
    "# Populate the new DataFrame with the data from the old DataFrame\n",
    "output_df['Product Title'] = df['Name']\n",
    "output_df['Price USD'] = df['Price']  # Assuming the price is in USD\n",
    "output_df['Product Thumbnail'] = df['Img_url']\n",
    "output_df['Product Handle'] = df['Name'].str.lower().replace(' ', '-').replace('/', '-')  # Create handle by replacing spaces and slashes with dashes\n",
    "\n",
    "# Fill other columns with default or placeholder values\n",
    "output_df['Product Status'] = 'published'\n",
    "output_df['Product Discountable'] = 'true'\n",
    "output_df['Product Id'] = ''  # Keep Product Id blank as per request\n",
    "output_df['Variant Id'] = ''  # Keep Variant Id blank as per request\n",
    "output_df['Variant SKU'] = ''  # Keep Variant SKU blank as per request\n",
    "output_df['Variant Inventory Quantity'] = '100'\n",
    "output_df['Variant Allow Backorder'] = 'false'\n",
    "output_df['Variant Manage Inventory'] = 'true'\n",
    "output_df['Variant Title'] = df['Name']  # Use unique variant titles to avoid duplication error\n",
    "output_df['Option 1 Name'] = 'Size'  # Follow template format\n",
    "output_df['Option 1 Value'] = 'One Size'  # Use a default option value\n",
    "output_df['Product Subtitle'] = ''  # Leaving blank as per template\n",
    "output_df['Product Description'] = \"'Every programmer's best friend.'\"  # Placeholder description\n",
    "output_df['Product Weight'] = '400'  # Placeholder weight as per template\n",
    "output_df['Product Collection Title'] = ''\n",
    "output_df['Product Collection Handle'] = ''\n",
    "output_df['Product Type'] = ''\n",
    "output_df['Product Tags'] = ''\n",
    "output_df['Product External Id'] = ''\n",
    "output_df['Product Profile Name'] = ''\n",
    "output_df['Product Profile Type'] = ''\n",
    "output_df['Variant Barcode'] = ''\n",
    "output_df['Variant Weight'] = ''\n",
    "output_df['Variant Length'] = ''\n",
    "output_df['Variant Width'] = ''\n",
    "output_df['Variant Height'] = ''\n",
    "output_df['Variant HS Code'] = ''\n",
    "output_df['Variant Origin Country'] = ''\n",
    "output_df['Variant MID Code'] = ''\n",
    "output_df['Variant Material'] = ''\n",
    "output_df['Price EUR'] = ''\n",
    "output_df['Image 1 Url'] = df['Img_url']  # First image URL from original data\n",
    "output_df['Image 2 Url'] = ''  # Leaving blank for second image URL\n",
    "\n",
    "# Remove duplicate rows from the DataFrame\n",
    "output_df.drop_duplicates(inplace=True)\n",
    "\n",
    "# Save the new DataFrame to the desired output CSV file\n",
    "output_df.to_csv(output_csv, sep=';', index=False)\n",
    "\n",
    "print(f'CSV converted and saved as {output_csv}')"
   ]
  },
  {
   "cell_type": "code",
   "execution_count": null,
   "id": "76763c4e-02e0-4660-a3b7-8d39aeb11a3e",
   "metadata": {},
   "outputs": [],
   "source": []
  }
 ],
 "metadata": {
  "kernelspec": {
   "display_name": "Python 3 (ipykernel)",
   "language": "python",
   "name": "python3"
  },
  "language_info": {
   "codemirror_mode": {
    "name": "ipython",
    "version": 3
   },
   "file_extension": ".py",
   "mimetype": "text/x-python",
   "name": "python",
   "nbconvert_exporter": "python",
   "pygments_lexer": "ipython3",
   "version": "3.12.4"
  }
 },
 "nbformat": 4,
 "nbformat_minor": 5
}
